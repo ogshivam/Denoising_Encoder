{
 "cells": [
  {
   "cell_type": "code",
   "execution_count": 1,
   "metadata": {},
   "outputs": [
    {
     "name": "stdout",
     "output_type": "stream",
     "text": [
      "Collecting pydub\n",
      "  Downloading pydub-0.25.1-py2.py3-none-any.whl.metadata (1.4 kB)\n",
      "Downloading pydub-0.25.1-py2.py3-none-any.whl (32 kB)\n",
      "Installing collected packages: pydub\n",
      "Successfully installed pydub-0.25.1\n",
      "Note: you may need to restart the kernel to use updated packages.\n"
     ]
    }
   ],
   "source": [
    "pip install pydub"
   ]
  },
  {
   "cell_type": "code",
   "execution_count": 3,
   "metadata": {},
   "outputs": [
    {
     "name": "stdout",
     "output_type": "stream",
     "text": [
      "Loading audio file: 1.m4a\n",
      "Total audio duration: 27.46 seconds\n",
      "Splitting into 13 segments of 2.0 seconds each\n",
      "Exported: 000_0-2sec.m4a\n",
      "Exported: 001_2-4sec.m4a\n",
      "Exported: 002_4-6sec.m4a\n",
      "Exported: 003_6-8sec.m4a\n",
      "Exported: 004_8-10sec.m4a\n",
      "Exported: 005_10-12sec.m4a\n",
      "Exported: 006_12-14sec.m4a\n",
      "Exported: 007_14-16sec.m4a\n",
      "Exported: 008_16-18sec.m4a\n",
      "Exported: 009_18-20sec.m4a\n",
      "Exported: 010_20-22sec.m4a\n",
      "Exported: 011_22-24sec.m4a\n",
      "Exported: 012_24-26sec.m4a\n",
      "Audio splitting complete!\n"
     ]
    }
   ],
   "source": [
    "import os\n",
    "from pydub import AudioSegment\n",
    "\n",
    "def split_audio_into_segments(input_file_path, output_folder=\"2sec_files\", segment_length_ms=2000):\n",
    "    \"\"\"\n",
    "    Split an audio file into non-overlapping segments of specified length\n",
    "    \n",
    "    Args:\n",
    "        input_file_path (str): Path to the input audio file\n",
    "        output_folder (str): Folder to save the output segments\n",
    "        segment_length_ms (int): Length of each segment in milliseconds\n",
    "    \"\"\"\n",
    "    # Create output directory if it doesn't exist\n",
    "    if not os.path.exists(output_folder):\n",
    "        os.makedirs(output_folder)\n",
    "        print(f\"Created output directory: {output_folder}\")\n",
    "    \n",
    "    # Load the audio file\n",
    "    print(f\"Loading audio file: {input_file_path}\")\n",
    "    audio = AudioSegment.from_file(input_file_path)\n",
    "    \n",
    "    # Get the total duration of the audio in milliseconds\n",
    "    total_duration_ms = len(audio)\n",
    "    print(f\"Total audio duration: {total_duration_ms/1000:.2f} seconds\")\n",
    "    \n",
    "    # Calculate number of segments\n",
    "    num_segments = total_duration_ms // segment_length_ms\n",
    "    print(f\"Splitting into {num_segments} segments of {segment_length_ms/1000} seconds each\")\n",
    "    \n",
    "    # Extract and export each segment\n",
    "    for i in range(num_segments):\n",
    "        # Calculate start and end times for this segment\n",
    "        start_time = i * segment_length_ms\n",
    "        end_time = start_time + segment_length_ms\n",
    "        \n",
    "        # Extract the segment\n",
    "        segment = audio[start_time:end_time]\n",
    "        \n",
    "        # Generate output filename\n",
    "        output_filename = f\"{i:03d}_{start_time/1000:.0f}-{end_time/1000:.0f}sec.m4a\"\n",
    "        output_path = os.path.join(output_folder, output_filename)\n",
    "        \n",
    "        # Export the segment\n",
    "        segment.export(output_path, format=\"ipod\")\n",
    "        print(f\"Exported: {output_filename}\")\n",
    "\n",
    "if __name__ == \"__main__\":\n",
    "    # Replace with your actual audio file path\n",
    "    input_file = \"1.m4a\"\n",
    "    \n",
    "    # Split the audio into 2-second segments\n",
    "    split_audio_into_segments(input_file)\n",
    "    \n",
    "    print(\"Audio splitting complete!\")"
   ]
  }
 ],
 "metadata": {
  "kernelspec": {
   "display_name": "base",
   "language": "python",
   "name": "python3"
  },
  "language_info": {
   "codemirror_mode": {
    "name": "ipython",
    "version": 3
   },
   "file_extension": ".py",
   "mimetype": "text/x-python",
   "name": "python",
   "nbconvert_exporter": "python",
   "pygments_lexer": "ipython3",
   "version": "3.12.2"
  }
 },
 "nbformat": 4,
 "nbformat_minor": 2
}
